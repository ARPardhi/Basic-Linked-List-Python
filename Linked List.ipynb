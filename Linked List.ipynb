{
 "cells": [
  {
   "cell_type": "code",
   "execution_count": 13,
   "metadata": {},
   "outputs": [],
   "source": [
    "class LinkedList:\n",
    "    def __init__(self):\n",
    "        self.head= None #set the head iniitial value to be null\n",
    "    \n",
    "    def insertnode(self,data):\n",
    "        llnode = node(data)\n",
    "        if not self.head:\n",
    "            self.head = llnode\n",
    "        else:\n",
    "            self.tail.next=llnode\n",
    "        self.tail=llnode\n",
    "    \n",
    "    def printlist(self):\n",
    "        ptr=self.head\n",
    "        while(ptr!=None):\n",
    "            print(ptr.data,end=\"__--->\")\n",
    "            ptr=ptr.next\n",
    "        print(\"▯\")\n",
    "        \n",
    "    def get(self,n):\n",
    "        ptr=self.head\n",
    "        i=0\n",
    "        while(ptr!=None and i<n):\n",
    "#             print(ptr.data)\n",
    "            ptr=ptr.next\n",
    "            i+=1\n",
    "#         print(i)\n",
    "        if(ptr==None):\n",
    "            print(\"Index out of range of Elements in LinkedList\")\n",
    "        else:\n",
    "            print(ptr.data)\n",
    "    \n",
    "    def search(self,ele):\n",
    "        ptr=self.head\n",
    "        i=0\n",
    "        while(ptr!=None):\n",
    "            if ptr.data==ele:\n",
    "                print(\"Element is present in the list\")\n",
    "                return i\n",
    "            i+=1\n",
    "            ptr=ptr.next\n",
    "        print(\"Element not present\")\n",
    "        return -1\n",
    "    def insertat(self,n,data):\n",
    "        nd = node(data)\n",
    "        if(n==0):\n",
    "            temp=self.head\n",
    "            self.head=nd\n",
    "            nd.next=temp\n",
    "        else:\n",
    "            ptr=self.head\n",
    "            i=0\n",
    "            while(ptr!=None and i<n-1):\n",
    "                ptr=ptr.next\n",
    "                i+=1\n",
    "            if(ptr==None):\n",
    "                print(\"Index not in the list\")\n",
    "            else:\n",
    "                nd.next=ptr.next\n",
    "                ptr.next=nd\n",
    "#                 print(nd.next.data)\n",
    "\n",
    "    def delnode(self,n):\n",
    "        if(n==0):\n",
    "            self.head=self.head.next\n",
    "        else:\n",
    "            ptr=self.head\n",
    "#             print(ptr.data)\n",
    "            i=0\n",
    "            while(ptr!=None and i<n-1):\n",
    "#                 print(i)\n",
    "                ptr=ptr.next\n",
    "                i+=1\n",
    "            if(ptr==None):\n",
    "                print(\"Index not in the list\")\n",
    "            else:\n",
    "                ptr.next=ptr.next.next\n",
    "    def rev(self):\n",
    "        ptr=self.head\n",
    "        prev=None\n",
    "        while(ptr is not None):\n",
    "            new=ptr.next\n",
    "            ptr.next=prev\n",
    "            prev=ptr\n",
    "            ptr=new\n",
    "        self.head=prev\n",
    "        \n",
    "class node:\n",
    "    def __init__(self,data):\n",
    "        self.data=data\n",
    "        self.next=None\n",
    "    \n",
    "# For Example Consider this Linked List named List    \n",
    "linked = LinkedList()\n",
    "linked.insertnode(13)\n",
    "linked.insertnode(16)\n",
    "linked.insertnode(18)\n",
    "linked.insertnode(133)\n",
    "linked.insertnode(17)   "
   ]
  },
  {
   "cell_type": "code",
   "execution_count": 14,
   "metadata": {},
   "outputs": [
    {
     "name": "stdout",
     "output_type": "stream",
     "text": [
      "13__--->16__--->18__--->133__--->17__--->▯\n"
     ]
    }
   ],
   "source": [
    "# printlist(linked)\n",
    "linked.printlist()"
   ]
  },
  {
   "cell_type": "code",
   "execution_count": 15,
   "metadata": {},
   "outputs": [
    {
     "name": "stdout",
     "output_type": "stream",
     "text": [
      "17__--->133__--->18__--->16__--->13__--->▯\n"
     ]
    }
   ],
   "source": [
    "linked.rev()\n",
    "linked.printlist()"
   ]
  },
  {
   "cell_type": "code",
   "execution_count": 16,
   "metadata": {},
   "outputs": [
    {
     "name": "stdout",
     "output_type": "stream",
     "text": [
      "Index out of range of Elements in LinkedList\n"
     ]
    }
   ],
   "source": [
    "linked.get(99)"
   ]
  },
  {
   "cell_type": "code",
   "execution_count": 17,
   "metadata": {},
   "outputs": [
    {
     "name": "stdout",
     "output_type": "stream",
     "text": [
      "17__--->133__--->18__--->943__--->16__--->13__--->▯\n"
     ]
    }
   ],
   "source": [
    "linked.insertat(3,943)\n",
    "linked.printlist()"
   ]
  },
  {
   "cell_type": "code",
   "execution_count": 18,
   "metadata": {},
   "outputs": [
    {
     "name": "stdout",
     "output_type": "stream",
     "text": [
      "133__--->18__--->943__--->16__--->13__--->▯\n"
     ]
    }
   ],
   "source": [
    "linked.delnode(0)\n",
    "linked.printlist()"
   ]
  },
  {
   "cell_type": "markdown",
   "metadata": {},
   "source": [
    "### Circular Linked List"
   ]
  },
  {
   "cell_type": "code",
   "execution_count": 19,
   "metadata": {},
   "outputs": [],
   "source": [
    "class CircularLinkedList:\n",
    "    def __init__(self):\n",
    "        self.head= None #set the head iniitial value to be null\n",
    "        \n",
    "    \n",
    "    def insertnode(self,data):\n",
    "        llnode = node(data)\n",
    "        if not self.head:\n",
    "            self.head = llnode\n",
    "            \n",
    "        else:\n",
    "            self.tail.next=llnode\n",
    "        self.tail=llnode\n",
    "        llnode.next=self.head\n",
    "    \n",
    "    def printlist(self):\n",
    "        start=self.head\n",
    "#         print(\"next data:-\",start.next.data)\n",
    "        ptr=start.next\n",
    "        print(start.data,end=\"__--->\")\n",
    "#         limiter=0\n",
    "        while(ptr!=start):\n",
    "#             limiter+=1\n",
    "            print(ptr.data,end=\"__--->\")\n",
    "            ptr=ptr.next\n",
    "        print(\"▯\")\n",
    "        \n",
    "    def get(self,n):\n",
    "        ptr=self.head\n",
    "        i=0\n",
    "        start=None\n",
    "        while(ptr!=start and i<n):\n",
    "            if(i==0):\n",
    "                start=ptr\n",
    "#             print(ptr.data)\n",
    "            ptr=ptr.next\n",
    "            i+=1\n",
    "#         print(i)\n",
    "        if(ptr==start):\n",
    "            print(\"Index out of range of Elements in LinkedList\")\n",
    "        else:\n",
    "            print(ptr.data)\n",
    "    \n",
    "    def search(self,ele):\n",
    "        ptr=self.head\n",
    "        i=0\n",
    "        start=None\n",
    "        while(ptr!=start):\n",
    "            if(i==0):\n",
    "                start=ptr\n",
    "            if ptr.data==ele:\n",
    "                print(\"Element is present in the list\")\n",
    "                return i\n",
    "            i+=1\n",
    "            ptr=ptr.next\n",
    "        print(\"Element not present\")\n",
    "        return -1\n",
    "    def insertat(self,n,data):\n",
    "        nd = node(data)\n",
    "        if(n==0):\n",
    "            temp=self.head\n",
    "            self.head=nd\n",
    "            nd.next=temp\n",
    "        else:\n",
    "            ptr=self.head\n",
    "            start=None\n",
    "            i=0\n",
    "            while(ptr!=start and i<n-1):\n",
    "                if(i==0):\n",
    "                    start=ptr\n",
    "                ptr=ptr.next\n",
    "                i+=1\n",
    "            if(ptr==None):\n",
    "                print(\"Index not in the list\")\n",
    "            else:\n",
    "                nd.next=ptr.next\n",
    "                ptr.next=nd\n",
    "#                 print(nd.next.data)\n",
    "\n",
    "    def delnode(self,n):\n",
    "        if(n==0):\n",
    "            self.head=self.head.next\n",
    "        else:\n",
    "            ptr=self.head\n",
    "#             print(ptr.data)\n",
    "            i=0\n",
    "            start=None\n",
    "            while(ptr!=start and i<n-1):\n",
    "                if(i==0):\n",
    "                    start=ptr\n",
    "#                 print(i)\n",
    "                ptr=ptr.next\n",
    "                i+=1\n",
    "            if(ptr==None):\n",
    "                print(\"Index not in the list\")\n",
    "            else:\n",
    "                ptr.next=ptr.next.next\n",
    "        \n",
    "class node:\n",
    "    def __init__(self,data):\n",
    "        self.data=data\n",
    "        self.next=None\n",
    "    \n",
    "    \n",
    "Clinked = CircularLinkedList()\n",
    "Clinked.insertnode(13)\n",
    "Clinked.insertnode(16)\n",
    "Clinked.insertnode(18)\n",
    "Clinked.insertnode(133)\n",
    "Clinked.insertnode(17)   "
   ]
  },
  {
   "cell_type": "code",
   "execution_count": 20,
   "metadata": {},
   "outputs": [
    {
     "name": "stdout",
     "output_type": "stream",
     "text": [
      "13__--->16__--->18__--->133__--->17__--->▯\n"
     ]
    }
   ],
   "source": [
    "Clinked.printlist()"
   ]
  },
  {
   "cell_type": "code",
   "execution_count": null,
   "metadata": {},
   "outputs": [],
   "source": []
  }
 ],
 "metadata": {
  "kernelspec": {
   "display_name": "Python 3",
   "language": "python",
   "name": "python3"
  },
  "language_info": {
   "codemirror_mode": {
    "name": "ipython",
    "version": 3
   },
   "file_extension": ".py",
   "mimetype": "text/x-python",
   "name": "python",
   "nbconvert_exporter": "python",
   "pygments_lexer": "ipython3",
   "version": "3.8.3"
  }
 },
 "nbformat": 4,
 "nbformat_minor": 4
}
